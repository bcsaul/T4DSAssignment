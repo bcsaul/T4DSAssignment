{
 "cells": [
  {
   "cell_type": "code",
   "execution_count": 1,
   "id": "e9cf5615-d95f-4823-95de-fc6cd7c14ae7",
   "metadata": {
    "tags": []
   },
   "outputs": [],
   "source": [
    "# Data Science Tools and Ecosystem"
   ]
  },
  {
   "cell_type": "code",
   "execution_count": null,
   "id": "43f4bb1b-adc9-4e9d-8758-b8b65b5286a3",
   "metadata": {},
   "outputs": [],
   "source": [
    "#In this notebook, Data Science Tools and Ecosystem are summarized."
   ]
  },
  {
   "cell_type": "code",
   "execution_count": null,
   "id": "f6287120-cfd6-411e-9eeb-9317194e6d22",
   "metadata": {},
   "outputs": [],
   "source": [
    "# Some of the popular languages that Data Scientists use are:\n",
    "1. Python\n",
    "2. R\n",
    "3. SQL"
   ]
  },
  {
   "cell_type": "code",
   "execution_count": null,
   "id": "f85343ac-9033-4cf9-a594-d84f59183a28",
   "metadata": {},
   "outputs": [],
   "source": [
    "# Some of the commonly used libraries used by Data Scientists include:\n",
    "1. NumPy\n",
    "2. Pandas\n",
    "3. Matplotlib"
   ]
  },
  {
   "cell_type": "code",
   "execution_count": null,
   "id": "f0220213-cec8-4ba5-bb36-b7fd88887a78",
   "metadata": {},
   "outputs": [],
   "source": [
    "#\n",
    "| Data Science Tools |\n",
    "|--------------------|\n",
    "| Jupyter Notebook   |\n",
    "| RStudio            |\n",
    "| Apache Zeppelin    |"
   ]
  },
  {
   "cell_type": "code",
   "execution_count": null,
   "id": "daf03e97-0e7d-46b7-85eb-4555f59ba69a",
   "metadata": {},
   "outputs": [],
   "source": [
    "### Below are a few examples of evaluating arithmetic expressions in Python.\n",
    "\n",
    "5*2\n",
    "5+4"
   ]
  },
  {
   "cell_type": "code",
   "execution_count": 2,
   "id": "6795dfa0-1007-408b-ab69-2a7e8c570de4",
   "metadata": {
    "tags": []
   },
   "outputs": [
    {
     "data": {
      "text/plain": [
       "17"
      ]
     },
     "execution_count": 2,
     "metadata": {},
     "output_type": "execute_result"
    }
   ],
   "source": [
    "(3*4)+5\n",
    "\n",
    "#  This a simple arithmetic expression to mutiply then add integers\n",
    "\n"
   ]
  },
  {
   "cell_type": "code",
   "execution_count": null,
   "id": "f4334dff-f499-4db3-b2aa-ec2c33405e14",
   "metadata": {},
   "outputs": [],
   "source": []
  },
  {
   "cell_type": "code",
   "execution_count": 3,
   "id": "00781b2c-03a0-41d6-b167-b98d4a2da5a1",
   "metadata": {
    "tags": []
   },
   "outputs": [
    {
     "data": {
      "text/plain": [
       "3.3333333333333335"
      ]
     },
     "execution_count": 3,
     "metadata": {},
     "output_type": "execute_result"
    }
   ],
   "source": [
    "# This will convert 200 minutes to hours by dividing by 60\n",
    "200 / 60"
   ]
  },
  {
   "cell_type": "code",
   "execution_count": null,
   "id": "72b914c7-3e22-4f5c-bbf2-a729158414cb",
   "metadata": {},
   "outputs": [],
   "source": [
    "\n",
    "# **Objectives:**\n",
    "# - List popular languages for Data Science\n",
    "# - List commonly used libraries in Data Science\n",
    "# - Create a table of Data Science tools\n",
    "# - Demonstrate arithmetic expressions in Python"
   ]
  },
  {
   "cell_type": "code",
   "execution_count": 5,
   "id": "0c1a6dd9-21a5-498c-9eb7-146ab89be701",
   "metadata": {
    "tags": []
   },
   "outputs": [],
   "source": [
    "## Author\n",
    "# Ben Saul"
   ]
  },
  {
   "cell_type": "code",
   "execution_count": null,
   "id": "e73da983-f6af-4aeb-ab35-9cc353bf1bcb",
   "metadata": {},
   "outputs": [],
   "source": []
  }
 ],
 "metadata": {
  "kernelspec": {
   "display_name": "Python",
   "language": "python",
   "name": "conda-env-python-py"
  },
  "language_info": {
   "codemirror_mode": {
    "name": "ipython",
    "version": 3
   },
   "file_extension": ".py",
   "mimetype": "text/x-python",
   "name": "python",
   "nbconvert_exporter": "python",
   "pygments_lexer": "ipython3",
   "version": "3.7.12"
  }
 },
 "nbformat": 4,
 "nbformat_minor": 5
}
